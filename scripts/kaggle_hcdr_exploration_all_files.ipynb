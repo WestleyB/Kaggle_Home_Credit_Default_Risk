{
 "cells": [
  {
   "cell_type": "markdown",
   "metadata": {},
   "source": [
    "# Kaggle Home Credit Default Risk - All files"
   ]
  },
  {
   "cell_type": "code",
   "execution_count": 1,
   "metadata": {},
   "outputs": [],
   "source": [
    "import os\n",
    "import sys\n",
    "import numpy as np\n",
    "import pandas as pd\n",
    "\n",
    "pd.set_option('display.max_rows', 500)\n",
    "pd.set_option('display.max_columns', 500)\n",
    "pd.set_option('display.width', 1000)\n",
    "\n",
    "from scipy.stats import skew, kurtosis, iqr\n",
    "\n",
    "# matplotlib and seaborn for plotting\n",
    "import matplotlib.pyplot as plt\n",
    "import seaborn as sns\n",
    "\n",
    "# add by me\n",
    "from datetime import datetime\n",
    "\n",
    "import gc\n",
    "\n",
    "from utils import missing_ratio, memory_reduce"
   ]
  },
  {
   "cell_type": "code",
   "execution_count": null,
   "metadata": {},
   "outputs": [],
   "source": [
    "app_train = pd.read_csv('../data/application_train.csv')\n",
    "print('application_train data shape: ', app_train.shape)\n",
    "app_test = pd.read_csv('../data/application_test.csv')\n",
    "print('Testing data shape: ', app_test.shape)"
   ]
  },
  {
   "cell_type": "code",
   "execution_count": null,
   "metadata": {
    "scrolled": true
   },
   "outputs": [],
   "source": [
    "credit_card_balance[(credit_card_balance['SK_ID_PREV'] == 1330831) \n",
    "                    & (credit_card_balance['SK_ID_CURR'] == 151639) \n",
    "                    & (credit_card_balance['AMT_BALANCE'] > 0)]['AMT_BALANCE'].mean()"
   ]
  },
  {
   "cell_type": "markdown",
   "metadata": {},
   "source": [
    "### New Merge Method of other files"
   ]
  },
  {
   "cell_type": "code",
   "execution_count": 2,
   "metadata": {},
   "outputs": [
    {
     "name": "stdout",
     "output_type": "stream",
     "text": [
      "\t- credit_card_balance data shape:  (3840312, 23)\n"
     ]
    }
   ],
   "source": [
    "credit_card_balance = pd.read_csv('../data/credit_card_balance.csv')\n",
    "print('\\t- credit_card_balance data shape: ', credit_card_balance.shape)"
   ]
  },
  {
   "cell_type": "code",
   "execution_count": 4,
   "metadata": {},
   "outputs": [
    {
     "name": "stdout",
     "output_type": "stream",
     "text": [
      "\t- POS_CASH_balance data shape:  (10001358, 8)\n"
     ]
    }
   ],
   "source": [
    "pos_cash_balance = pd.read_csv('../data/POS_CASH_balance.csv')\n",
    "print('\\t- POS_CASH_balance data shape: ', pos_cash_balance.shape)"
   ]
  },
  {
   "cell_type": "code",
   "execution_count": 9,
   "metadata": {},
   "outputs": [
    {
     "name": "stdout",
     "output_type": "stream",
     "text": [
      "(13841670, 25)\n",
      "Wall time: 28.6 s\n"
     ]
    }
   ],
   "source": [
    "%%time\n",
    "\n",
    "keys = ['MONTHS_BALANCE', 'NAME_CONTRACT_STATUS', 'SK_DPD', 'SK_DPD_DEF', 'SK_ID_CURR', 'SK_ID_PREV']\n",
    "\n",
    "credit_card_col = ['MONTHS_BALANCE', 'NAME_CONTRACT_STATUS', 'SK_DPD', 'SK_DPD_DEF', 'SK_ID_CURR', 'SK_ID_PREV', 'CNT_INSTALMENT_MATURE_CUM']\n",
    "installment_col = ['CNT_INSTALMENT', 'CNT_INSTALMENT_FUTURE', 'CNT_INSTALMENT_MATURE_CUM']\n",
    "\n",
    "ccb_pcb = credit_card_balance.merge(pos_cash_balance, on=keys, how='outer')\n",
    "\n",
    "# Clean up memory\n",
    "gc.enable()\n",
    "del credit_card_balance, pos_cash_balance\n",
    "gc.collect()\n",
    "\n",
    "print(ccb_pcb.shape)"
   ]
  },
  {
   "cell_type": "code",
   "execution_count": 3,
   "metadata": {},
   "outputs": [],
   "source": [
    "ccb_pcb['AMT_PAYMENT_CURRENT'].fillna(0, inplace=True)\n",
    "ccb_pcb['CNT_DRAWINGS_POS_CURRENT'].fillna(0, inplace=True)\n",
    "ccb_pcb['CNT_DRAWINGS_OTHER_CURRENT'].fillna(0, inplace=True)\n",
    "ccb_pcb['CNT_DRAWINGS_ATM_CURRENT'].fillna(0, inplace=True)\n",
    "ccb_pcb['AMT_DRAWINGS_POS_CURRENT'].fillna(0, inplace=True)\n",
    "ccb_pcb['AMT_DRAWINGS_OTHER_CURRENT'].fillna(0, inplace=True)\n",
    "ccb_pcb['AMT_DRAWINGS_ATM_CURRENT'].fillna(0, inplace=True)\n",
    "ccb_pcb['CNT_INSTALMENT_MATURE_CUM'].fillna(0, inplace=True)\n",
    "ccb_pcb['AMT_INST_MIN_REGULARITY'].fillna(0, inplace=True)\n",
    "ccb_pcb['CNT_INSTALMENT'].fillna(0, inplace=True)\n",
    "ccb_pcb['CNT_INSTALMENT_FUTURE'].fillna(0, inplace=True)"
   ]
  },
  {
   "cell_type": "markdown",
   "metadata": {},
   "source": [
    "###### Step 2"
   ]
  },
  {
   "cell_type": "code",
   "execution_count": 9,
   "metadata": {},
   "outputs": [
    {
     "name": "stdout",
     "output_type": "stream",
     "text": [
      "previous_application data shape:  (1670214, 37)\n"
     ]
    }
   ],
   "source": [
    "previous_application = pd.read_csv('../data/previous_application.csv')\n",
    "print('previous_application data shape: ', previous_application.shape)"
   ]
  },
  {
   "cell_type": "code",
   "execution_count": 9,
   "metadata": {},
   "outputs": [
    {
     "name": "stdout",
     "output_type": "stream",
     "text": [
      "(13841670, 25)\n",
      "(1670214, 37)\n",
      "(15507231, 59)\n",
      "Wall time: 1min 25s\n"
     ]
    }
   ],
   "source": [
    "%%time\n",
    "\n",
    "print(ccb_pcb.shape)\n",
    "print(previous_application.shape)\n",
    "_keys = ['NAME_CONTRACT_STATUS', 'SK_ID_CURR', 'SK_ID_PREV']\n",
    "\n",
    "ccb_pcb_pa = ccb_pcb.merge(previous_application, on=_keys, how='outer')\n",
    "\n",
    "# Clean up memory\n",
    "gc.enable()\n",
    "del previous_application, ccb_pcb\n",
    "gc.collect()\n",
    "\n",
    "ccb_pcb_pa = memory_reduce(ccb_pcb_pa)\n",
    "\n",
    "print(ccb_pcb_pa.shape)"
   ]
  },
  {
   "cell_type": "markdown",
   "metadata": {},
   "source": [
    "###### Step 3"
   ]
  },
  {
   "cell_type": "code",
   "execution_count": 15,
   "metadata": {},
   "outputs": [
    {
     "name": "stdout",
     "output_type": "stream",
     "text": [
      "installments_payments data shape:  (13605401, 8)\n"
     ]
    }
   ],
   "source": [
    "installments_payments = pd.read_csv('../data/installments_payments.csv')\n",
    "print('installments_payments data shape: ', installments_payments.shape)"
   ]
  },
  {
   "cell_type": "code",
   "execution_count": null,
   "metadata": {},
   "outputs": [],
   "source": [
    "%%time\n",
    "\n",
    "print(ccb_pcb_pa.shape)\n",
    "print(installments_payments.shape)\n",
    "\n",
    "installments_payments = memory_reduce(installments_payments)\n",
    "\n",
    "_keys_ = ['SK_ID_CURR', 'SK_ID_PREV']\n",
    "\n",
    "ccb_pcb_pa_ip = ccb_pcb_pa.merge(installments_payments, on=_keys_, how='outer')\n",
    "\n",
    "# Clean up memory\n",
    "gc.enable()\n",
    "del installments_payments, ccb_pcb_pa\n",
    "gc.collect()\n",
    "\n",
    "print(ccb_pcb_pa_ip.shape)"
   ]
  },
  {
   "cell_type": "markdown",
   "metadata": {},
   "source": [
    "###### Test Merge with chunck"
   ]
  },
  {
   "cell_type": "code",
   "execution_count": 5,
   "metadata": {},
   "outputs": [
    {
     "name": "stdout",
     "output_type": "stream",
     "text": [
      "(10001358, 6)\n",
      "(3840312, 6)\n"
     ]
    }
   ],
   "source": [
    "keys = ['MONTHS_BALANCE', 'NAME_CONTRACT_STATUS', 'SK_DPD', 'SK_DPD_DEF', 'SK_ID_CURR', 'SK_ID_PREV']\n",
    "print(pos_cash_balance[keys].drop_duplicates().shape)\n",
    "print(credit_card_balance[keys].drop_duplicates().shape)"
   ]
  },
  {
   "cell_type": "code",
   "execution_count": 16,
   "metadata": {},
   "outputs": [
    {
     "name": "stdout",
     "output_type": "stream",
     "text": [
      "Wall time: 19min 1s\n"
     ]
    }
   ],
   "source": [
    "%%time\n",
    "\n",
    "# df1 = pd.read_csv(\"yourdata.csv\")\n",
    "# df2 = pd.read_csv(\"yourdata2.csv\")\n",
    "# df2_key = df2.Colname2\n",
    "\n",
    "# creating a empty bucket to save result\n",
    "df_result = pd.DataFrame(columns=(credit_card_balance.columns.append(pos_cash_balance.columns)).unique())\n",
    "df_result.to_csv('../data_processed/tmp_ccb_pcb_merged.csv', index_label=False)\n",
    "\n",
    "# save data which only appear in df1 # sorry I was doing left join here. no need to run below two line.\n",
    "# df_result = df1[df1.Colname1.isin(df2.Colname2)!=True]\n",
    "# df_result.to_csv(\"df3.csv\",index_label=False, mode=\"a\")\n",
    "\n",
    "# deleting df2 to save memory\n",
    "del(pos_cash_balance)\n",
    "\n",
    "def preprocess(x):\n",
    "#     df2=pd.merge(df1,x, left_on = \"Colname1\", right_on = \"Colname2\")\n",
    "    df2 = credit_card_balance.merge(x, on=keys, how='outer')\n",
    "    df2.to_csv('../data_processed/tmp_ccb_pcb_merged.csv', mode=\"a\", header=False, index=False)\n",
    "\n",
    "reader = pd.read_csv('../data/POS_CASH_balance.csv', chunksize=1000000) # chunksize depends with you colsize\n",
    "\n",
    "[preprocess(r) for r in reader]"
   ]
  },
  {
   "cell_type": "code",
   "execution_count": null,
   "metadata": {},
   "outputs": [],
   "source": [
    "sizetest = pd.read_csv('../data_processed/tmp_ccb_pcb_merged.csv', chunksize=1000000)\n",
    "sizetest.drop_duplicates().shape"
   ]
  },
  {
   "cell_type": "code",
   "execution_count": null,
   "metadata": {},
   "outputs": [],
   "source": []
  },
  {
   "cell_type": "markdown",
   "metadata": {},
   "source": [
    "###### Test new merge"
   ]
  },
  {
   "cell_type": "code",
   "execution_count": 2,
   "metadata": {},
   "outputs": [
    {
     "name": "stdout",
     "output_type": "stream",
     "text": [
      "\t- credit_card_balance data shape:  (3840312, 23)\n",
      "\t- POS_CASH_balance data shape:  (10001358, 8)\n",
      "Wall time: 22.8 s\n"
     ]
    }
   ],
   "source": [
    "%%time\n",
    "\n",
    "credit_card_balance = pd.read_csv('../data/credit_card_balance.csv')\n",
    "print('\\t- credit_card_balance data shape: ', credit_card_balance.shape)\n",
    "pos_cash_balance = pd.read_csv('../data/POS_CASH_balance.csv')\n",
    "print('\\t- POS_CASH_balance data shape: ', pos_cash_balance.shape)"
   ]
  },
  {
   "cell_type": "code",
   "execution_count": 3,
   "metadata": {},
   "outputs": [
    {
     "name": "stdout",
     "output_type": "stream",
     "text": [
      "(13841670, 6)\n",
      "(13841670, 6)\n",
      "(13841670, 8)\n",
      "(13841670, 25)\n",
      "Wall time: 1min 14s\n"
     ]
    }
   ],
   "source": [
    "%%time\n",
    "\n",
    "keys = ['MONTHS_BALANCE', 'NAME_CONTRACT_STATUS', 'SK_DPD', 'SK_DPD_DEF', 'SK_ID_CURR', 'SK_ID_PREV']\n",
    "tt = pd.concat([pos_cash_balance[keys].drop_duplicates(), credit_card_balance[keys].drop_duplicates()])\n",
    "\n",
    "print(tt.shape)\n",
    "print(tt.drop_duplicates().shape)\n",
    "tt = tt.merge(pos_cash_balance, on=keys, how='left')\n",
    "print(tt.shape)\n",
    "tt = tt.merge(credit_card_balance, on=keys, how='left')\n",
    "print(tt.shape)"
   ]
  },
  {
   "cell_type": "code",
   "execution_count": 4,
   "metadata": {},
   "outputs": [
    {
     "name": "stdout",
     "output_type": "stream",
     "text": [
      "\t> Launch Memory Reduction\n",
      "\t\t- Initial size 2745.69 MB\n",
      "\t\t- There are 1 columns that cannot be reduced\n",
      "\t\t- There are 24 columns reduced\n",
      "\t\t- Final size 1201.24 MB\n",
      "\t> End of Memory Reduction\n",
      "Wall time: 45.8 s\n"
     ]
    }
   ],
   "source": [
    "%%time\n",
    "\n",
    "# Clean up memory\n",
    "gc.enable()\n",
    "del credit_card_balance, pos_cash_balance\n",
    "gc.collect()\n",
    "\n",
    "tt = memory_reduce(tt)"
   ]
  },
  {
   "cell_type": "code",
   "execution_count": 5,
   "metadata": {},
   "outputs": [
    {
     "name": "stdout",
     "output_type": "stream",
     "text": [
      "previous_application data shape:  (1670214, 37)\n",
      "Wall time: 10.2 s\n"
     ]
    }
   ],
   "source": [
    "%%time\n",
    "\n",
    "previous_application = pd.read_csv('../data/previous_application.csv')\n",
    "print('previous_application data shape: ', previous_application.shape)"
   ]
  },
  {
   "cell_type": "code",
   "execution_count": 6,
   "metadata": {},
   "outputs": [
    {
     "name": "stdout",
     "output_type": "stream",
     "text": [
      "\t> Launch Memory Reduction\n",
      "\t\t- Initial size 471.48 MB\n",
      "\t\t- There are 16 columns that cannot be reduced\n",
      "\t\t- There are 21 columns reduced\n",
      "\t\t- Final size 309.01 MB\n",
      "\t> End of Memory Reduction\n",
      "(1670214, 37)\n",
      "(3512865, 3)\n",
      "(3508212, 3)\n",
      "(15507231, 25)\n",
      "(15507231, 59)\n",
      "(15507231, 59)\n",
      "Wall time: 5min 51s\n"
     ]
    }
   ],
   "source": [
    "%%time\n",
    "\n",
    "previous_application = memory_reduce(previous_application)\n",
    "print(previous_application.shape)\n",
    "\n",
    "_keys = ['NAME_CONTRACT_STATUS', 'SK_ID_CURR', 'SK_ID_PREV']\n",
    "jj = pd.concat([tt[_keys].drop_duplicates(), previous_application[_keys].drop_duplicates()])\n",
    "print(jj.shape)\n",
    "jj.drop_duplicates(inplace=True)\n",
    "print(jj.shape)\n",
    "jj = jj.merge(tt, on=_keys, how='left')\n",
    "print(jj.shape)\n",
    "jj = jj.merge(previous_application, on=_keys, how='left')\n",
    "print(jj.shape)\n",
    "jj.drop_duplicates(inplace=True)\n",
    "print(jj.shape)"
   ]
  },
  {
   "cell_type": "code",
   "execution_count": 7,
   "metadata": {},
   "outputs": [
    {
     "name": "stdout",
     "output_type": "stream",
     "text": [
      "\t> Launch Memory Reduction\n",
      "\t\t- Initial size 4614.12 MB\n",
      "\t\t- There are 16 columns that cannot be reduced\n",
      "\t\t- There are 43 columns reduced\n",
      "\t\t- Final size 4022.57 MB\n",
      "\t> End of Memory Reduction\n",
      "Wall time: 1min 9s\n"
     ]
    }
   ],
   "source": [
    "%%time\n",
    "\n",
    "# Clean up memory\n",
    "gc.enable()\n",
    "del previous_application, tt\n",
    "gc.collect()\n",
    "\n",
    "jj = memory_reduce(jj)"
   ]
  },
  {
   "cell_type": "code",
   "execution_count": 2,
   "metadata": {},
   "outputs": [
    {
     "ename": "NameError",
     "evalue": "name 'pd' is not defined",
     "output_type": "error",
     "traceback": [
      "\u001b[1;31m---------------------------------------------------------------------------\u001b[0m",
      "\u001b[1;31mNameError\u001b[0m                                 Traceback (most recent call last)",
      "\u001b[1;32m<timed exec>\u001b[0m in \u001b[0;36m<module>\u001b[1;34m()\u001b[0m\n",
      "\u001b[1;31mNameError\u001b[0m: name 'pd' is not defined"
     ]
    }
   ],
   "source": [
    "%%time\n",
    "\n",
    "installments_payments = pd.read_csv('../data/installments_payments.csv')\n",
    "print('installments_payments data shape: ', installments_payments.shape)"
   ]
  },
  {
   "cell_type": "code",
   "execution_count": 1,
   "metadata": {},
   "outputs": [
    {
     "ename": "NameError",
     "evalue": "name 'installments_payments' is not defined",
     "output_type": "error",
     "traceback": [
      "\u001b[1;31m---------------------------------------------------------------------------\u001b[0m",
      "\u001b[1;31mNameError\u001b[0m                                 Traceback (most recent call last)",
      "\u001b[1;32m<timed exec>\u001b[0m in \u001b[0;36m<module>\u001b[1;34m()\u001b[0m\n",
      "\u001b[1;31mNameError\u001b[0m: name 'installments_payments' is not defined"
     ]
    }
   ],
   "source": [
    "%%time\n",
    "\n",
    "print(installments_payments.shape)\n",
    "installments_payments = memory_reduce(installments_payments)\n",
    "\n",
    "_keys_ = ['SK_ID_CURR', 'SK_ID_PREV']\n",
    "qq = pd.concat([jj[_keys_].drop_duplicates(), installments_payments[_keys_].drop_duplicates()])\n",
    "print(qq.shape)\n",
    "qq.drop_duplicates(inplace=True)\n",
    "print(qq.shape)\n",
    "qq = qq.merge(jj, on=_keys_, how='left')\n",
    "print(qq.shape)\n",
    "qq.drop_duplicates(inplace=True)\n",
    "print(qq.shape)\n",
    "qq = memory_reduce(qq)\n",
    "qq = qq.merge(installments_payments, on=_keys_, how='left')\n",
    "print(qq.shape)"
   ]
  },
  {
   "cell_type": "code",
   "execution_count": null,
   "metadata": {},
   "outputs": [],
   "source": [
    "%%time\n",
    "\n",
    "# Clean up memory\n",
    "gc.enable()\n",
    "del installments_payments, jj\n",
    "gc.collect()\n",
    "\n",
    "qq = memory_reduce(qq)"
   ]
  },
  {
   "cell_type": "code",
   "execution_count": null,
   "metadata": {},
   "outputs": [],
   "source": []
  },
  {
   "cell_type": "code",
   "execution_count": null,
   "metadata": {},
   "outputs": [],
   "source": []
  },
  {
   "cell_type": "code",
   "execution_count": 50,
   "metadata": {},
   "outputs": [
    {
     "data": {
      "image/png": "[encoded data removed]",
      "text/plain": [
       "<Figure size 432x288 with 1 Axes>"
      ]
     },
     "metadata": {},
     "output_type": "display_data"
    }
   ],
   "source": [
    "credit_card_balance['AMT_PAYMENT_CURRENT'].plot.hist();"
   ]
  },
  {
   "cell_type": "code",
   "execution_count": 51,
   "metadata": {},
   "outputs": [
    {
     "data": {
      "text/plain": [
       "count    3.072324e+06\n",
       "mean     1.028054e+04\n",
       "std      3.607808e+04\n",
       "min      0.000000e+00\n",
       "25%      1.523700e+02\n",
       "50%      2.702700e+03\n",
       "75%      9.000000e+03\n",
       "max      4.289207e+06\n",
       "Name: AMT_PAYMENT_CURRENT, dtype: float64"
      ]
     },
     "execution_count": 51,
     "metadata": {},
     "output_type": "execute_result"
    }
   ],
   "source": [
    "credit_card_balance['AMT_PAYMENT_CURRENT'].describe()"
   ]
  },
  {
   "cell_type": "code",
   "execution_count": null,
   "metadata": {},
   "outputs": [],
   "source": []
  },
  {
   "cell_type": "code",
   "execution_count": 47,
   "metadata": {},
   "outputs": [
    {
     "data": {
      "image/png": "[encoded data removed]",
      "text/plain": [
       "<Figure size 432x288 with 1 Axes>"
      ]
     },
     "metadata": {},
     "output_type": "display_data"
    }
   ],
   "source": [
    "pos_cash_balance['CNT_INSTALMENT_FUTURE'].plot.hist();"
   ]
  },
  {
   "cell_type": "code",
   "execution_count": 48,
   "metadata": {},
   "outputs": [
    {
     "data": {
      "image/png": "[encoded data removed]",
      "text/plain": [
       "<Figure size 432x288 with 1 Axes>"
      ]
     },
     "metadata": {},
     "output_type": "display_data"
    }
   ],
   "source": [
    "pos_cash_balance['CNT_INSTALMENT'].plot.hist();"
   ]
  },
  {
   "cell_type": "code",
   "execution_count": 49,
   "metadata": {},
   "outputs": [
    {
     "data": {
      "text/plain": [
       "count    1.000136e+07\n",
       "mean     1.704510e+01\n",
       "std      1.201106e+01\n",
       "min      0.000000e+00\n",
       "25%      1.000000e+01\n",
       "50%      1.200000e+01\n",
       "75%      2.400000e+01\n",
       "max      9.200000e+01\n",
       "Name: CNT_INSTALMENT, dtype: float64"
      ]
     },
     "execution_count": 49,
     "metadata": {},
     "output_type": "execute_result"
    }
   ],
   "source": [
    "pos_cash_balance['CNT_INSTALMENT'].describe()"
   ]
  },
  {
   "cell_type": "code",
   "execution_count": 7,
   "metadata": {},
   "outputs": [
    {
     "data": {
      "text/html": [
       "<div>\n",
       "<style scoped>\n",
       "    .dataframe tbody tr th:only-of-type {\n",
       "        vertical-align: middle;\n",
       "    }\n",
       "\n",
       "    .dataframe tbody tr th {\n",
       "        vertical-align: top;\n",
       "    }\n",
       "\n",
       "    .dataframe thead th {\n",
       "        text-align: right;\n",
       "    }\n",
       "</style>\n",
       "<table border=\"1\" class=\"dataframe\">\n",
       "  <thead>\n",
       "    <tr style=\"text-align: right;\">\n",
       "      <th></th>\n",
       "      <th>Missing Ratio</th>\n",
       "    </tr>\n",
       "  </thead>\n",
       "  <tbody>\n",
       "    <tr>\n",
       "      <th>AMT_RECEIVABLE_PRINCIPAL</th>\n",
       "      <td>72.255429</td>\n",
       "    </tr>\n",
       "    <tr>\n",
       "      <th>AMT_PAYMENT_TOTAL_CURRENT</th>\n",
       "      <td>72.255429</td>\n",
       "    </tr>\n",
       "    <tr>\n",
       "      <th>AMT_CREDIT_LIMIT_ACTUAL</th>\n",
       "      <td>72.255429</td>\n",
       "    </tr>\n",
       "    <tr>\n",
       "      <th>AMT_DRAWINGS_ATM_CURRENT</th>\n",
       "      <td>72.255429</td>\n",
       "    </tr>\n",
       "    <tr>\n",
       "      <th>AMT_DRAWINGS_CURRENT</th>\n",
       "      <td>72.255429</td>\n",
       "    </tr>\n",
       "    <tr>\n",
       "      <th>AMT_DRAWINGS_OTHER_CURRENT</th>\n",
       "      <td>72.255429</td>\n",
       "    </tr>\n",
       "    <tr>\n",
       "      <th>AMT_DRAWINGS_POS_CURRENT</th>\n",
       "      <td>72.255429</td>\n",
       "    </tr>\n",
       "    <tr>\n",
       "      <th>AMT_INST_MIN_REGULARITY</th>\n",
       "      <td>72.255429</td>\n",
       "    </tr>\n",
       "    <tr>\n",
       "      <th>AMT_PAYMENT_CURRENT</th>\n",
       "      <td>72.255429</td>\n",
       "    </tr>\n",
       "    <tr>\n",
       "      <th>AMT_BALANCE</th>\n",
       "      <td>72.255429</td>\n",
       "    </tr>\n",
       "    <tr>\n",
       "      <th>AMT_RECIVABLE</th>\n",
       "      <td>72.255429</td>\n",
       "    </tr>\n",
       "    <tr>\n",
       "      <th>AMT_TOTAL_RECEIVABLE</th>\n",
       "      <td>72.255429</td>\n",
       "    </tr>\n",
       "    <tr>\n",
       "      <th>CNT_DRAWINGS_ATM_CURRENT</th>\n",
       "      <td>72.255429</td>\n",
       "    </tr>\n",
       "    <tr>\n",
       "      <th>CNT_DRAWINGS_CURRENT</th>\n",
       "      <td>72.255429</td>\n",
       "    </tr>\n",
       "    <tr>\n",
       "      <th>CNT_DRAWINGS_OTHER_CURRENT</th>\n",
       "      <td>72.255429</td>\n",
       "    </tr>\n",
       "    <tr>\n",
       "      <th>CNT_DRAWINGS_POS_CURRENT</th>\n",
       "      <td>72.255429</td>\n",
       "    </tr>\n",
       "    <tr>\n",
       "      <th>CNT_INSTALMENT_MATURE_CUM</th>\n",
       "      <td>72.255429</td>\n",
       "    </tr>\n",
       "    <tr>\n",
       "      <th>CNT_INSTALMENT</th>\n",
       "      <td>27.744571</td>\n",
       "    </tr>\n",
       "    <tr>\n",
       "      <th>CNT_INSTALMENT_FUTURE</th>\n",
       "      <td>27.744571</td>\n",
       "    </tr>\n",
       "  </tbody>\n",
       "</table>\n",
       "</div>"
      ],
      "text/plain": [
       "                            Missing Ratio\n",
       "AMT_RECEIVABLE_PRINCIPAL        72.255429\n",
       "AMT_PAYMENT_TOTAL_CURRENT       72.255429\n",
       "AMT_CREDIT_LIMIT_ACTUAL         72.255429\n",
       "AMT_DRAWINGS_ATM_CURRENT        72.255429\n",
       "AMT_DRAWINGS_CURRENT            72.255429\n",
       "AMT_DRAWINGS_OTHER_CURRENT      72.255429\n",
       "AMT_DRAWINGS_POS_CURRENT        72.255429\n",
       "AMT_INST_MIN_REGULARITY         72.255429\n",
       "AMT_PAYMENT_CURRENT             72.255429\n",
       "AMT_BALANCE                     72.255429\n",
       "AMT_RECIVABLE                   72.255429\n",
       "AMT_TOTAL_RECEIVABLE            72.255429\n",
       "CNT_DRAWINGS_ATM_CURRENT        72.255429\n",
       "CNT_DRAWINGS_CURRENT            72.255429\n",
       "CNT_DRAWINGS_OTHER_CURRENT      72.255429\n",
       "CNT_DRAWINGS_POS_CURRENT        72.255429\n",
       "CNT_INSTALMENT_MATURE_CUM       72.255429\n",
       "CNT_INSTALMENT                  27.744571\n",
       "CNT_INSTALMENT_FUTURE           27.744571"
      ]
     },
     "execution_count": 7,
     "metadata": {},
     "output_type": "execute_result"
    },
    {
     "data": {
      "image/png": "[encoded data removed]",
      "text/plain": [
       "<Figure size 1080x864 with 1 Axes>"
      ]
     },
     "metadata": {},
     "output_type": "display_data"
    }
   ],
   "source": [
    "missing_ratio(ccb_pcb)"
   ]
  },
  {
   "cell_type": "code",
   "execution_count": null,
   "metadata": {},
   "outputs": [],
   "source": []
  },
  {
   "cell_type": "code",
   "execution_count": 17,
   "metadata": {},
   "outputs": [
    {
     "data": {
      "text/html": [
       "<div>\n",
       "<style scoped>\n",
       "    .dataframe tbody tr th:only-of-type {\n",
       "        vertical-align: middle;\n",
       "    }\n",
       "\n",
       "    .dataframe tbody tr th {\n",
       "        vertical-align: top;\n",
       "    }\n",
       "\n",
       "    .dataframe thead th {\n",
       "        text-align: right;\n",
       "    }\n",
       "</style>\n",
       "<table border=\"1\" class=\"dataframe\">\n",
       "  <thead>\n",
       "    <tr style=\"text-align: right;\">\n",
       "      <th></th>\n",
       "      <th>Missing Ratio</th>\n",
       "    </tr>\n",
       "  </thead>\n",
       "  <tbody>\n",
       "    <tr>\n",
       "      <th>NAME_TYPE_SUITE</th>\n",
       "      <td>94.519092</td>\n",
       "    </tr>\n",
       "    <tr>\n",
       "      <th>PRODUCT_COMBINATION</th>\n",
       "      <td>89.230005</td>\n",
       "    </tr>\n",
       "    <tr>\n",
       "      <th>NAME_YIELD_GROUP</th>\n",
       "      <td>89.227774</td>\n",
       "    </tr>\n",
       "    <tr>\n",
       "      <th>NAME_SELLER_INDUSTRY</th>\n",
       "      <td>89.227774</td>\n",
       "    </tr>\n",
       "    <tr>\n",
       "      <th>CHANNEL_TYPE</th>\n",
       "      <td>89.227774</td>\n",
       "    </tr>\n",
       "    <tr>\n",
       "      <th>NAME_PRODUCT_TYPE</th>\n",
       "      <td>89.227774</td>\n",
       "    </tr>\n",
       "    <tr>\n",
       "      <th>NAME_PORTFOLIO</th>\n",
       "      <td>89.227774</td>\n",
       "    </tr>\n",
       "    <tr>\n",
       "      <th>NAME_GOODS_CATEGORY</th>\n",
       "      <td>89.227774</td>\n",
       "    </tr>\n",
       "    <tr>\n",
       "      <th>NAME_CLIENT_TYPE</th>\n",
       "      <td>89.227774</td>\n",
       "    </tr>\n",
       "    <tr>\n",
       "      <th>CODE_REJECT_REASON</th>\n",
       "      <td>89.227774</td>\n",
       "    </tr>\n",
       "    <tr>\n",
       "      <th>NAME_PAYMENT_TYPE</th>\n",
       "      <td>89.227774</td>\n",
       "    </tr>\n",
       "    <tr>\n",
       "      <th>NAME_CASH_LOAN_PURPOSE</th>\n",
       "      <td>89.227774</td>\n",
       "    </tr>\n",
       "    <tr>\n",
       "      <th>FLAG_LAST_APPL_PER_CONTRACT</th>\n",
       "      <td>89.227774</td>\n",
       "    </tr>\n",
       "    <tr>\n",
       "      <th>WEEKDAY_APPR_PROCESS_START</th>\n",
       "      <td>89.227774</td>\n",
       "    </tr>\n",
       "    <tr>\n",
       "      <th>NAME_CONTRACT_TYPE</th>\n",
       "      <td>89.227774</td>\n",
       "    </tr>\n",
       "  </tbody>\n",
       "</table>\n",
       "</div>"
      ],
      "text/plain": [
       "                             Missing Ratio\n",
       "NAME_TYPE_SUITE                  94.519092\n",
       "PRODUCT_COMBINATION              89.230005\n",
       "NAME_YIELD_GROUP                 89.227774\n",
       "NAME_SELLER_INDUSTRY             89.227774\n",
       "CHANNEL_TYPE                     89.227774\n",
       "NAME_PRODUCT_TYPE                89.227774\n",
       "NAME_PORTFOLIO                   89.227774\n",
       "NAME_GOODS_CATEGORY              89.227774\n",
       "NAME_CLIENT_TYPE                 89.227774\n",
       "CODE_REJECT_REASON               89.227774\n",
       "NAME_PAYMENT_TYPE                89.227774\n",
       "NAME_CASH_LOAN_PURPOSE           89.227774\n",
       "FLAG_LAST_APPL_PER_CONTRACT      89.227774\n",
       "WEEKDAY_APPR_PROCESS_START       89.227774\n",
       "NAME_CONTRACT_TYPE               89.227774"
      ]
     },
     "execution_count": 17,
     "metadata": {},
     "output_type": "execute_result"
    }
   ],
   "source": [
    "missing_ratio(ccb_pcb_pa, n=60, plot=False)"
   ]
  },
  {
   "cell_type": "code",
   "execution_count": null,
   "metadata": {},
   "outputs": [],
   "source": [
    "ccb_pcb_pa_ip.head()"
   ]
  },
  {
   "cell_type": "code",
   "execution_count": null,
   "metadata": {},
   "outputs": [],
   "source": []
  },
  {
   "cell_type": "code",
   "execution_count": null,
   "metadata": {},
   "outputs": [],
   "source": []
  },
  {
   "cell_type": "code",
   "execution_count": null,
   "metadata": {},
   "outputs": [],
   "source": [
    "print(previous_application.shape)\n",
    "preapp_col = []\n",
    "for col in previous_application.columns:\n",
    "    if 'DAY' in col:\n",
    "        preapp_col.append(col)\n",
    "        \n",
    "preapp_col"
   ]
  },
  {
   "cell_type": "code",
   "execution_count": null,
   "metadata": {},
   "outputs": [],
   "source": [
    "previous_application[preapp_col].head()"
   ]
  },
  {
   "cell_type": "code",
   "execution_count": null,
   "metadata": {},
   "outputs": [],
   "source": [
    "print(credit_card_balance.shape)\n",
    "print(len(amt_col))\n",
    "print(len(keys))"
   ]
  },
  {
   "cell_type": "code",
   "execution_count": null,
   "metadata": {},
   "outputs": [],
   "source": [
    "amt_col = []\n",
    "for col in credit_card_balance.columns:\n",
    "    if 'AMT' in col:\n",
    "        amt_col.append(col)\n",
    "        \n",
    "amt_col"
   ]
  },
  {
   "cell_type": "code",
   "execution_count": null,
   "metadata": {},
   "outputs": [],
   "source": [
    "credit_card_balance[(t['SK_ID_CURR'] == 371185) \n",
    "                    & (t['SK_ID_PREV'] == 1740877)].sort_values(['SK_ID_CURR', 'SK_ID_PREV', 'MONTHS_BALANCE'])[amt_col]"
   ]
  },
  {
   "cell_type": "code",
   "execution_count": null,
   "metadata": {},
   "outputs": [],
   "source": [
    "_balance_col = []\n",
    "for col in pos_cash_balance.columns:\n",
    "    if 'AMT' in col:\n",
    "        _balance_col.append(col)\n",
    "        \n",
    "_balance_col"
   ]
  },
  {
   "cell_type": "code",
   "execution_count": null,
   "metadata": {},
   "outputs": [],
   "source": []
  },
  {
   "cell_type": "code",
   "execution_count": null,
   "metadata": {},
   "outputs": [],
   "source": [
    "t[(t['SK_ID_CURR'] == 397406) & (t['SK_ID_PREV'] == 2492206)].sort_values(['SK_ID_CURR', 'SK_ID_PREV', 'MONTHS_BALANCE'])"
   ]
  },
  {
   "cell_type": "code",
   "execution_count": null,
   "metadata": {},
   "outputs": [],
   "source": [
    "t['AMT_BALANCE'].describe()"
   ]
  },
  {
   "cell_type": "code",
   "execution_count": null,
   "metadata": {},
   "outputs": [],
   "source": [
    "t[t['AMT_BALANCE'] > 0]['AMT_BALANCE'].plot.hist();"
   ]
  },
  {
   "cell_type": "code",
   "execution_count": null,
   "metadata": {},
   "outputs": [],
   "source": [
    "t[t['AMT_BALANCE'] != -420250.185]['AMT_BALANCE'].plot.box()"
   ]
  },
  {
   "cell_type": "code",
   "execution_count": null,
   "metadata": {},
   "outputs": [],
   "source": [
    "t[t.duplicated(keys)]"
   ]
  },
  {
   "cell_type": "code",
   "execution_count": null,
   "metadata": {},
   "outputs": [],
   "source": []
  }
 ],
 "metadata": {
  "kernelspec": {
   "display_name": "Python 3",
   "language": "python",
   "name": "python3"
  },
  "language_info": {
   "codemirror_mode": {
    "name": "ipython",
    "version": 3
   },
   "file_extension": ".py",
   "mimetype": "text/x-python",
   "name": "python",
   "nbconvert_exporter": "python",
   "pygments_lexer": "ipython3",
   "version": "3.6.5"
  }
 },
 "nbformat": 4,
 "nbformat_minor": 2
}
